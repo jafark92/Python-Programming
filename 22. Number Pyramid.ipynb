{
 "cells": [
  {
   "cell_type": "code",
   "execution_count": 21,
   "metadata": {},
   "outputs": [
    {
     "name": "stdout",
     "output_type": "stream",
     "text": [
      "Enter the height of pyramid you want to built : 9\n",
      "1 \n",
      "1 2 \n",
      "1 2 3 \n",
      "1 2 3 4 \n",
      "1 2 3 4 5 \n",
      "1 2 3 4 5 6 \n",
      "1 2 3 4 5 6 7 \n",
      "1 2 3 4 5 6 7 8 \n",
      "1 2 3 4 5 6 7 8 9 \n",
      "1 2 3 4 5 6 7 8  \n",
      "1 2 3 4 5 6 7   \n",
      "1 2 3 4 5 6    \n",
      "1 2 3 4 5     \n",
      "1 2 3 4      \n",
      "1 2 3       \n",
      "1 2        \n",
      "1         \n",
      "         \n",
      "         \n"
     ]
    }
   ],
   "source": [
    "upto = int (input ('Enter the height of pyramid you want to built : '))\n",
    "\n",
    "def number_pyramid(upto):\n",
    "    pyramid = ''\n",
    "    for n in range(upto):     \n",
    "        pyramid = pyramid.__add__(str(n + 1) + ' ')\n",
    "        print (pyramid) \n",
    "\n",
    "    for n in range(-upto, 1):\n",
    "        pyramid = pyramid.replace(str(-(n)), '')\n",
    "        print (pyramid)\n",
    "        \n",
    "number_pyramid(upto)"
   ]
  },
  {
   "cell_type": "code",
   "execution_count": null,
   "metadata": {},
   "outputs": [],
   "source": []
  }
 ],
 "metadata": {
  "kernelspec": {
   "display_name": "Python 3",
   "language": "python",
   "name": "python3"
  },
  "language_info": {
   "codemirror_mode": {
    "name": "ipython",
    "version": 3
   },
   "file_extension": ".py",
   "mimetype": "text/x-python",
   "name": "python",
   "nbconvert_exporter": "python",
   "pygments_lexer": "ipython3",
   "version": "3.7.3"
  }
 },
 "nbformat": 4,
 "nbformat_minor": 2
}
