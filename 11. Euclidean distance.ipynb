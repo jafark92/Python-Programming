{
 "cells": [
  {
   "cell_type": "code",
   "execution_count": 1,
   "metadata": {},
   "outputs": [
    {
     "name": "stdout",
     "output_type": "stream",
     "text": [
      "Enter Co-ordinate for x1: 1\n",
      "Enter Co-ordinate for x2: 4\n",
      "Enter Co-ordinate for y1: 1\n",
      "Enter Co-ordinate for y2: 5\n",
      "Distance between points (1.0, 1.0) and (4.0, 5.0) is 5.0\n"
     ]
    }
   ],
   "source": [
    "x1 = float ( input ('Enter Co-ordinate for x1: '))\n",
    "x2 = float ( input ('Enter Co-ordinate for x2: '))\n",
    "y1 = float ( input ('Enter Co-ordinate for y1: '))\n",
    "y2 = float ( input ('Enter Co-ordinate for y2: '))\n",
    "dist = (((x2 - x1)**2 + (y2 - y1)**2))**0.5\n",
    "print ('Distance between points (' + str(x1) + ', ' + str(y1) + ') and (' + str(x2) + ', ' + str(y2) + ') is ' + str(dist))"
   ]
  },
  {
   "cell_type": "code",
   "execution_count": null,
   "metadata": {},
   "outputs": [],
   "source": []
  }
 ],
 "metadata": {
  "kernelspec": {
   "display_name": "Python 3",
   "language": "python",
   "name": "python3"
  },
  "language_info": {
   "codemirror_mode": {
    "name": "ipython",
    "version": 3
   },
   "file_extension": ".py",
   "mimetype": "text/x-python",
   "name": "python",
   "nbconvert_exporter": "python",
   "pygments_lexer": "ipython3",
   "version": "3.7.3"
  }
 },
 "nbformat": 4,
 "nbformat_minor": 2
}
