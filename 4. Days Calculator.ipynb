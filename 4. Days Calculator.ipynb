{
 "cells": [
  {
   "cell_type": "code",
   "execution_count": 13,
   "metadata": {},
   "outputs": [
    {
     "name": "stdout",
     "output_type": "stream",
     "text": [
      "Enter a first date in (dd/mm/yyyy) format: 6/7/2019\n",
      "Enter a second date in (dd/mm/yyyy) format: 27/11/1996\n",
      "Difference between the dates is 10 days, 7 months, 22 years\n"
     ]
    }
   ],
   "source": [
    "# Able to calculate number of days, months and years between two dates\n",
    "\n",
    "d1, m1, y1 = map(int, (input ('Enter a first date in (dd/mm/yyyy) format: ').split('/')))\n",
    "d2, m2, y2 = map(int, (input ('Enter a second date in (dd/mm/yyyy) format: ').split('/')))\n",
    "\n",
    "# we will try to make second date greater\n",
    "\n",
    "if y2 < y1:                \n",
    "    d2, m2, y2, d1, m1, y1 = d1, m1, y1, d2, m2, y2    # swapping if second date is less than first\n",
    "\n",
    "if d2 >= d1:\n",
    "        dd = d2 - d1\n",
    "else:\n",
    "    days_31 = {1, 3, 5, 7, 8, 10, 12}  # set of 31 days months.\n",
    "    days_30 = {4, 6, 9, 11}            # set of 30 days months.\n",
    "    if days_31.__contains__(m2):\n",
    "        num_of_days_in_month = 31\n",
    "    elif days_30.__contains__(m2):\n",
    "        num_of_days_in_month =  30\n",
    "    else:\n",
    "        if y2 % 4 == 0:                      # find number of days for february\n",
    "            num_of_days_in_month = 28\n",
    "        else:\n",
    "            num_of_days_in_month = 29\n",
    "    m2 -= 1\n",
    "    dd = d2 + num_of_days_in_month - d1\n",
    "\n",
    "\n",
    "    \n",
    "if m2 > m1:\n",
    "    md = m2 - m1\n",
    "else:\n",
    "    md = m2 + 12 - m1\n",
    "    y2 -= 1\n",
    "\n",
    "\n",
    "yd = y2 - y1\n",
    "print ('Difference between the dates is ' + str(dd) + ' days, ' + str(md) + ' months, ' + str(yd) + ' years')\n"
   ]
  },
  {
   "cell_type": "code",
   "execution_count": null,
   "metadata": {},
   "outputs": [],
   "source": []
  }
 ],
 "metadata": {
  "kernelspec": {
   "display_name": "Python 3",
   "language": "python",
   "name": "python3"
  },
  "language_info": {
   "codemirror_mode": {
    "name": "ipython",
    "version": 3
   },
   "file_extension": ".py",
   "mimetype": "text/x-python",
   "name": "python",
   "nbconvert_exporter": "python",
   "pygments_lexer": "ipython3",
   "version": "3.7.3"
  }
 },
 "nbformat": 4,
 "nbformat_minor": 2
}
