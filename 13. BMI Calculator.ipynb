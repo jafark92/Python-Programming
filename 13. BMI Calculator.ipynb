{
 "cells": [
  {
   "cell_type": "code",
   "execution_count": 2,
   "metadata": {},
   "outputs": [
    {
     "name": "stdout",
     "output_type": "stream",
     "text": [
      "Enter your height in cm : 180\n",
      "Enter your weight in Kg : 75\n",
      "Your BMI is 23.1481\n"
     ]
    }
   ],
   "source": [
    "height = float ( input ('Enter your height in cm : '))\n",
    "weight = float ( input ('Enter your weight in Kg : '))\n",
    "BMI = (weight / height**2) * 10000\n",
    "print ('Your BMI is ' + str(round(BMI,4)))\n",
    "\n"
   ]
  },
  {
   "cell_type": "code",
   "execution_count": null,
   "metadata": {},
   "outputs": [],
   "source": []
  }
 ],
 "metadata": {
  "kernelspec": {
   "display_name": "Python 3",
   "language": "python",
   "name": "python3"
  },
  "language_info": {
   "codemirror_mode": {
    "name": "ipython",
    "version": 3
   },
   "file_extension": ".py",
   "mimetype": "text/x-python",
   "name": "python",
   "nbconvert_exporter": "python",
   "pygments_lexer": "ipython3",
   "version": "3.7.3"
  }
 },
 "nbformat": 4,
 "nbformat_minor": 2
}
