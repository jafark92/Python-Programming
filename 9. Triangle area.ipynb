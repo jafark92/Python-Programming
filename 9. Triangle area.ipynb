{
 "cells": [
  {
   "cell_type": "code",
   "execution_count": 2,
   "metadata": {},
   "outputs": [
    {
     "name": "stdout",
     "output_type": "stream",
     "text": [
      "Enter magnitude of Triangle Base: 4\n",
      "Enter magnitude of Triangle Height: 4\n",
      "Area of Triangle with base 4.0 and height 4.0 is 8.0\n"
     ]
    }
   ],
   "source": [
    "base = float ( input ('Enter magnitude of Triangle Base: '))\n",
    "height = float ( input ('Enter magnitude of Triangle Height: '))\n",
    "area = (0.5) * base * height\n",
    "print ('Area of Triangle with base ' + str(base) + ' and height ' + str(height) + ' is ' + str(area))"
   ]
  }
 ],
 "metadata": {
  "kernelspec": {
   "display_name": "Python 3",
   "language": "python",
   "name": "python3"
  },
  "language_info": {
   "codemirror_mode": {
    "name": "ipython",
    "version": 3
   },
   "file_extension": ".py",
   "mimetype": "text/x-python",
   "name": "python",
   "nbconvert_exporter": "python",
   "pygments_lexer": "ipython3",
   "version": "3.7.3"
  }
 },
 "nbformat": 4,
 "nbformat_minor": 2
}
