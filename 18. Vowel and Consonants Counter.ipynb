{
 "cells": [
  {
   "cell_type": "code",
   "execution_count": 10,
   "metadata": {},
   "outputs": [
    {
     "name": "stdout",
     "output_type": "stream",
     "text": [
      "Enter text : QuickBrownFoxJumpsovertheDog\n",
      "Vowels : 9\n",
      "Consonants : 19\n"
     ]
    }
   ],
   "source": [
    "text = input('Enter text : ').lower().replace(' ', '') #replace() to remove whitespacing\n",
    "\n",
    "vowels = ['a', 'e', 'i', 'o', 'u']\n",
    "vowels_count, consonants_count = 0, 0\n",
    "length = len(text) - 1\n",
    "\n",
    "while length >= 0:\n",
    "    if vowels.__contains__(text[length]):\n",
    "        vowels_count += 1\n",
    "    else:\n",
    "        consonants_count += 1\n",
    "    length -= 1\n",
    "\n",
    "print ('Vowels : ' + str(vowels_count))\n",
    "print ('Consonants : ' + str(consonants_count))\n"
   ]
  },
  {
   "cell_type": "code",
   "execution_count": null,
   "metadata": {},
   "outputs": [],
   "source": []
  }
 ],
 "metadata": {
  "kernelspec": {
   "display_name": "Python 3",
   "language": "python",
   "name": "python3"
  },
  "language_info": {
   "codemirror_mode": {
    "name": "ipython",
    "version": 3
   },
   "file_extension": ".py",
   "mimetype": "text/x-python",
   "name": "python",
   "nbconvert_exporter": "python",
   "pygments_lexer": "ipython3",
   "version": "3.7.3"
  }
 },
 "nbformat": 4,
 "nbformat_minor": 2
}
