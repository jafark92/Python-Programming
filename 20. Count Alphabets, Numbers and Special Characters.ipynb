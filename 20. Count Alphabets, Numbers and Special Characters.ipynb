{
 "cells": [
  {
   "cell_type": "code",
   "execution_count": 12,
   "metadata": {},
   "outputs": [
    {
     "name": "stdout",
     "output_type": "stream",
     "text": [
      "Enter text : Python 3.7\n",
      "Numbers = 2 \n",
      "Alphabets = 6 \n",
      "Special Characters = 1\n",
      "Spacing = 1\n"
     ]
    }
   ],
   "source": [
    "text = input('Enter text : ')\n",
    "\n",
    "length = len(text) - 1\n",
    "alphabets, numbers, special_chr, spacing = 0, 0, 0, 0\n",
    "\n",
    "while length >= 0:\n",
    "    if text[length].isalpha() == True:\n",
    "        alphabets += 1\n",
    "    elif text[length].isnumeric() == True:\n",
    "        numbers += 1\n",
    "    elif text[length].isspace() == True:\n",
    "        spacing += 1\n",
    "    else:\n",
    "        special_chr += 1\n",
    "    length -= 1\n",
    "\n",
    "message = 'Numbers = {} \\nAlphabets = {} \\nSpecial Characters = {}\\nSpacing = {}'\n",
    "print (message.format(numbers,alphabets,special_chr,spacing))\n"
   ]
  },
  {
   "cell_type": "code",
   "execution_count": null,
   "metadata": {},
   "outputs": [],
   "source": []
  }
 ],
 "metadata": {
  "kernelspec": {
   "display_name": "Python 3",
   "language": "python",
   "name": "python3"
  },
  "language_info": {
   "codemirror_mode": {
    "name": "ipython",
    "version": 3
   },
   "file_extension": ".py",
   "mimetype": "text/x-python",
   "name": "python",
   "nbconvert_exporter": "python",
   "pygments_lexer": "ipython3",
   "version": "3.7.3"
  }
 },
 "nbformat": 4,
 "nbformat_minor": 2
}
