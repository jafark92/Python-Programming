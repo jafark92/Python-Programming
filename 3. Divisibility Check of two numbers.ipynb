{
 "cells": [
  {
   "cell_type": "code",
   "execution_count": 3,
   "metadata": {},
   "outputs": [
    {
     "name": "stdout",
     "output_type": "stream",
     "text": [
      "Enter numerator:-4\n",
      "Enter denominator:-2\n",
      "Number -4 is completely divisible by -2\n"
     ]
    }
   ],
   "source": [
    "num = int ( input ('Enter numerator:'))\n",
    "den = int ( input ('Enter denominator:'))\n",
    "if num % den == 0:\n",
    "    print ('Number ' + str(num) + ' is completely divisible by ' + str(den))\n",
    "else:\n",
    "    print ('Number ' + str(num) + ' is not completely divisible by ' + str(den))"
   ]
  },
  {
   "cell_type": "code",
   "execution_count": null,
   "metadata": {},
   "outputs": [],
   "source": []
  }
 ],
 "metadata": {
  "kernelspec": {
   "display_name": "Python 3",
   "language": "python",
   "name": "python3"
  },
  "language_info": {
   "codemirror_mode": {
    "name": "ipython",
    "version": 3
   },
   "file_extension": ".py",
   "mimetype": "text/x-python",
   "name": "python",
   "nbconvert_exporter": "python",
   "pygments_lexer": "ipython3",
   "version": "3.7.3"
  }
 },
 "nbformat": 4,
 "nbformat_minor": 2
}
