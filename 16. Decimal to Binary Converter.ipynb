{
 "cells": [
  {
   "cell_type": "code",
   "execution_count": null,
   "metadata": {},
   "outputs": [],
   "source": [
    "decimal = int( input('Enter a decimal number : '))\n",
    "decimal_user = str(decimal)\n",
    "binary = ''\n",
    "while decimal >= 0:\n",
    "    if decimal % 2 != 0:\n",
    "        binary = binary.__add__('1')\n",
    "    else:\n",
    "        binary = binary.__add__('0')\n",
    "    decimal = decimal // 2\n",
    "\n",
    "print ('Binary Representation of ' + decimal_user + ' is ' + binary[::-1])\n"
   ]
  }
 ],
 "metadata": {
  "kernelspec": {
   "display_name": "Python 3",
   "language": "python",
   "name": "python3"
  },
  "language_info": {
   "codemirror_mode": {
    "name": "ipython",
    "version": 3
   },
   "file_extension": ".py",
   "mimetype": "text/x-python",
   "name": "python",
   "nbconvert_exporter": "python",
   "pygments_lexer": "ipython3",
   "version": "3.7.3"
  }
 },
 "nbformat": 4,
 "nbformat_minor": 2
}
