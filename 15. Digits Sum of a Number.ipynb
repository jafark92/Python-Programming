{
 "cells": [
  {
   "cell_type": "code",
   "execution_count": 1,
   "metadata": {},
   "outputs": [
    {
     "name": "stdout",
     "output_type": "stream",
     "text": [
      "Enter a number : 12345\n",
      "Sum of 1 + 2 + 3 + 4 + 5 is 15\n"
     ]
    }
   ],
   "source": [
    "number = input ('Enter a number : ')\n",
    "digits_sum = 0\n",
    "message = ''\n",
    "for sum_num in range(len(number)):\n",
    "    digits_sum += int(number[sum_num])\n",
    "    message += number[sum_num]\n",
    "\n",
    "\n",
    "print ('Sum of ' + ' + '.join(message) + ' is '+ str(digits_sum))\n"
   ]
  },
  {
   "cell_type": "code",
   "execution_count": null,
   "metadata": {},
   "outputs": [],
   "source": []
  }
 ],
 "metadata": {
  "kernelspec": {
   "display_name": "Python 3",
   "language": "python",
   "name": "python3"
  },
  "language_info": {
   "codemirror_mode": {
    "name": "ipython",
    "version": 3
   },
   "file_extension": ".py",
   "mimetype": "text/x-python",
   "name": "python",
   "nbconvert_exporter": "python",
   "pygments_lexer": "ipython3",
   "version": "3.7.3"
  }
 },
 "nbformat": 4,
 "nbformat_minor": 2
}
