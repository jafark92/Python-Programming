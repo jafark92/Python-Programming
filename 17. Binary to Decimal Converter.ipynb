{
 "cells": [
  {
   "cell_type": "code",
   "execution_count": 3,
   "metadata": {},
   "outputs": [
    {
     "name": "stdout",
     "output_type": "stream",
     "text": [
      "Enter a Binary number : 100\n",
      "Decimal Representation of 100 is 4\n"
     ]
    }
   ],
   "source": [
    "def btod(n, p):     #  Recursive function\n",
    "    if n < 0:\n",
    "        return 0\n",
    "    else:\n",
    "        decimal = ((2**n) * int(binary[p]) + btod(n-1, p+1))   #  recursion \n",
    "        return decimal\n",
    "\n",
    "binary = input ('Enter a Binary number : ')  # take input as string\n",
    "n, p = len(binary) - 1, 0                   \n",
    "print ('Decimal Representation of ' + binary + ' is ' + str(btod(n, p)))\n"
   ]
  },
  {
   "cell_type": "code",
   "execution_count": null,
   "metadata": {},
   "outputs": [],
   "source": []
  }
 ],
 "metadata": {
  "kernelspec": {
   "display_name": "Python 3",
   "language": "python",
   "name": "python3"
  },
  "language_info": {
   "codemirror_mode": {
    "name": "ipython",
    "version": 3
   },
   "file_extension": ".py",
   "mimetype": "text/x-python",
   "name": "python",
   "nbconvert_exporter": "python",
   "pygments_lexer": "ipython3",
   "version": "3.7.3"
  }
 },
 "nbformat": 4,
 "nbformat_minor": 2
}
